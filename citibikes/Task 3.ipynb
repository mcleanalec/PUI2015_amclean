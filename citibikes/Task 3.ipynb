{
 "cells": [
  {
   "cell_type": "markdown",
   "metadata": {},
   "source": [
    "#Assignment 4 - task 3"
   ]
  },
  {
   "cell_type": "markdown",
   "metadata": {},
   "source": [
    "We want to prove that the average trip duration of suscribers in June is greater than the average trip duration of costumers in December. Therefore, we can express our null hypothesis as:\n",
    "\n",
    "\n",
    "$H_0: \\mu _u = \\mu _a $, where $\\mu_ u$ is the trip duration mean for June and $\\mu _a$ is the trip duration mean for January at a $95 \\%$ conffidence level"
   ]
  },
  {
   "cell_type": "code",
   "execution_count": 23,
   "metadata": {
    "collapsed": false
   },
   "outputs": [],
   "source": [
    "%matplotlib inline\n",
    "import matplotlib.pylab as plt\n",
    "import pandas as pd\n",
    "import numpy as np\n",
    "import math\n",
    "import requests\n",
    "import StringIO\n",
    "import zipfile"
   ]
  },
  {
   "cell_type": "code",
   "execution_count": 24,
   "metadata": {
    "collapsed": false
   },
   "outputs": [],
   "source": [
    "#We read two files: data for december 2014 and data for june 2015 from the citibike website\n",
    "#dec=pd.read_csv('dec14.csv', delimiter=\",\", na_values=[\"/N\"], header=0, \n",
    " #                  usecols = (\"tripduration\", \"usertype\"))\n",
    "#june=pd.read_csv('june15.csv', delimiter=\",\", na_values=[\"/N\"], header=0, \n",
    " #                  usecols = (\"tripduration\", \"usertype\"))"
   ]
  },
  {
   "cell_type": "code",
   "execution_count": 25,
   "metadata": {
    "collapsed": false
   },
   "outputs": [
    {
     "name": "stdout",
     "output_type": "stream",
     "text": [
      "<class 'pandas.core.frame.DataFrame'>\n",
      "Int64Index: 941219 entries, 0 to 941218\n",
      "Data columns (total 2 columns):\n",
      "tripduration    941219 non-null int64\n",
      "usertype        941219 non-null object\n",
      "dtypes: int64(1), object(1)\n",
      "memory usage: 21.5+ MB\n"
     ]
    }
   ],
   "source": [
    "#Instead of getting the data from a local file, we sourced it from the internet\n",
    "r = requests.get('https://s3.amazonaws.com/tripdata/201506-citibike-tripdata.zip')\n",
    "z = zipfile.ZipFile(StringIO.StringIO(r.content)) \n",
    "june = pd.read_csv(z.open('201506-citibike-tripdata.csv'),usecols = (\"tripduration\", \"usertype\"))\n",
    "june = june.dropna()\n",
    "june.info()"
   ]
  },
  {
   "cell_type": "code",
   "execution_count": 26,
   "metadata": {
    "collapsed": false
   },
   "outputs": [
    {
     "name": "stdout",
     "output_type": "stream",
     "text": [
      "<class 'pandas.core.frame.DataFrame'>\n",
      "Int64Index: 399069 entries, 0 to 399068\n",
      "Data columns (total 2 columns):\n",
      "tripduration    399069 non-null int64\n",
      "usertype        399069 non-null object\n",
      "dtypes: int64(1), object(1)\n",
      "memory usage: 9.1+ MB\n"
     ]
    }
   ],
   "source": [
    "#we do the same for december 2014 data\n",
    "r1 = requests.get('https://s3.amazonaws.com/tripdata/201412-citibike-tripdata.zip')\n",
    "z1 = zipfile.ZipFile(StringIO.StringIO(r1.content)) \n",
    "dec = pd.read_csv(z1.open('201412-citibike-tripdata.csv'),usecols = (\"tripduration\", \"usertype\"))\n",
    "dec = dec.dropna()\n",
    "dec.info()"
   ]
  },
  {
   "cell_type": "code",
   "execution_count": 27,
   "metadata": {
    "collapsed": false
   },
   "outputs": [],
   "source": [
    "#We set an alpha value, and we get the mean for trip duration grouped by usertype\n",
    "alpha=0.5\n",
    "TD_dec= dec['tripduration'].groupby(dec['usertype']).mean()\n",
    "TD_june= june['tripduration'].groupby(dec['usertype']).mean()"
   ]
  },
  {
   "cell_type": "code",
   "execution_count": 28,
   "metadata": {
    "collapsed": false
   },
   "outputs": [
    {
     "data": {
      "text/plain": [
       "<matplotlib.text.Text at 0x15d61a90>"
      ]
     },
     "execution_count": 28,
     "metadata": {},
     "output_type": "execute_result"
    },
    {
     "data": {
      "image/png": "[encoded data removed]",
      "text/plain": [
       "<matplotlib.figure.Figure at 0x3d18eb8>"
      ]
     },
     "metadata": {},
     "output_type": "display_data"
    }
   ],
   "source": [
    "ax=TD_dec.plot(kind='bar',alpha=0.8)\n",
    "ax.set_ylabel('Mean of tripduration')"
   ]
  },
  {
   "cell_type": "markdown",
   "metadata": {},
   "source": [
    "The figure above is showing us the mean in Trip Duration for Customers and suscribers for December 2014, then we do the same for June 2015"
   ]
  },
  {
   "cell_type": "code",
   "execution_count": 29,
   "metadata": {
    "collapsed": false
   },
   "outputs": [
    {
     "data": {
      "text/plain": [
       "<matplotlib.text.Text at 0x15d613c8>"
      ]
     },
     "execution_count": 29,
     "metadata": {},
     "output_type": "execute_result"
    },
    {
     "data": {
      "image/png": "[encoded data removed]",
      "text/plain": [
       "<matplotlib.figure.Figure at 0xba66b38>"
      ]
     },
     "metadata": {},
     "output_type": "display_data"
    }
   ],
   "source": [
    "ax=TD_june.plot(kind='bar',alpha=0.8)\n",
    "ax.set_ylabel('Mean of tripduration')"
   ]
  },
  {
   "cell_type": "markdown",
   "metadata": {},
   "source": [
    "#For the purpose of this experiment we are going to only look at customers during the months of December and June, respectively.  Therefore we are going to extract only customers from the data. We are assuming that the customers from the two months represent people who do not use the bikes for commutes (i.e. tourists or ocassional users). We want to look at high tourist months in NYC and determine if the results are statistically significant. "
   ]
  },
  {
   "cell_type": "code",
   "execution_count": 30,
   "metadata": {
    "collapsed": false
   },
   "outputs": [],
   "source": [
    "#Subset the original data frames for usertype= Customer\n",
    "dec_customer = dec [dec.usertype == 'Customer']\n",
    "june_customer = june [june.usertype == 'Customer']"
   ]
  },
  {
   "cell_type": "code",
   "execution_count": 31,
   "metadata": {
    "collapsed": false
   },
   "outputs": [
    {
     "data": {
      "text/plain": [
       "{'boxes': [<matplotlib.lines.Line2D at 0x146f2550>],\n",
       " 'caps': [<matplotlib.lines.Line2D at 0x146ff2e8>,\n",
       "  <matplotlib.lines.Line2D at 0x146ff860>],\n",
       " 'fliers': [<matplotlib.lines.Line2D at 0x1470b390>],\n",
       " 'means': [],\n",
       " 'medians': [<matplotlib.lines.Line2D at 0x146ffdd8>],\n",
       " 'whiskers': [<matplotlib.lines.Line2D at 0x156da128>,\n",
       "  <matplotlib.lines.Line2D at 0x146f2d30>]}"
      ]
     },
     "execution_count": 31,
     "metadata": {},
     "output_type": "execute_result"
    },
    {
     "data": {
      "image/png": "[encoded data removed]",
      "text/plain": [
       "<matplotlib.figure.Figure at 0x15d83b70>"
      ]
     },
     "metadata": {},
     "output_type": "display_data"
    }
   ],
   "source": [
    "#Now, we are going to take a look on our data:\n",
    "#We assume that there could be outliers in the data, so we want to plot a box plot to see them.\n",
    "dec_customer.boxplot()"
   ]
  },
  {
   "cell_type": "code",
   "execution_count": 32,
   "metadata": {
    "collapsed": false
   },
   "outputs": [
    {
     "data": {
      "text/plain": [
       "{'boxes': [<matplotlib.lines.Line2D at 0x14157390>],\n",
       " 'caps': [<matplotlib.lines.Line2D at 0x151f2128>,\n",
       "  <matplotlib.lines.Line2D at 0x151f26a0>],\n",
       " 'fliers': [<matplotlib.lines.Line2D at 0x151ff1d0>],\n",
       " 'means': [],\n",
       " 'medians': [<matplotlib.lines.Line2D at 0x151f2c18>],\n",
       " 'whiskers': [<matplotlib.lines.Line2D at 0x140fe898>,\n",
       "  <matplotlib.lines.Line2D at 0x14157b70>]}"
      ]
     },
     "execution_count": 32,
     "metadata": {},
     "output_type": "execute_result"
    },
    {
     "data": {
      "image/png": "[encoded data removed]",
      "text/plain": [
       "<matplotlib.figure.Figure at 0x167eb1d0>"
      ]
     },
     "metadata": {},
     "output_type": "display_data"
    }
   ],
   "source": [
    "june_customer.boxplot()"
   ]
  },
  {
   "cell_type": "markdown",
   "metadata": {},
   "source": [
    "This doesn't look good. There are several outliers that we must get rid of!"
   ]
  },
  {
   "cell_type": "code",
   "execution_count": 33,
   "metadata": {
    "collapsed": false
   },
   "outputs": [
    {
     "name": "stderr",
     "output_type": "stream",
     "text": [
      "C:\\Users\\Marco\\Anaconda\\lib\\site-packages\\IPython\\kernel\\__main__.py:2: SettingWithCopyWarning: \n",
      "A value is trying to be set on a copy of a slice from a DataFrame.\n",
      "Try using .loc[row_indexer,col_indexer] = value instead\n",
      "\n",
      "See the the caveats in the documentation: http://pandas.pydata.org/pandas-docs/stable/indexing.html#indexing-view-versus-copy\n",
      "  from IPython.kernel.zmq import kernelapp as app\n",
      "C:\\Users\\Marco\\Anaconda\\lib\\site-packages\\IPython\\kernel\\__main__.py:3: SettingWithCopyWarning: \n",
      "A value is trying to be set on a copy of a slice from a DataFrame.\n",
      "Try using .loc[row_indexer,col_indexer] = value instead\n",
      "\n",
      "See the the caveats in the documentation: http://pandas.pydata.org/pandas-docs/stable/indexing.html#indexing-view-versus-copy\n",
      "  app.launch_new_instance()\n"
     ]
    }
   ],
   "source": [
    "#For get rid of outliers, we perform a zscore testins with 2 stds tolerance\n",
    "dec_customer['zscore'] = ((dec_customer['tripduration']-dec_customer['tripduration'].mean())/dec_customer['tripduration'].std())\n",
    "june_customer['zscore'] = ((june_customer['tripduration']-june_customer['tripduration'].mean())/june_customer['tripduration'].std())\n",
    "\n",
    "#Clean the data sets 2 stds:\n",
    "dec_clean = dec_customer[(dec_customer.zscore <= 2) & (-2 <= dec_customer.zscore)]\n",
    "june_clean = june_customer[(june_customer.zscore <= 2) & (-2 <= june_customer.zscore)]"
   ]
  },
  {
   "cell_type": "code",
   "execution_count": 34,
   "metadata": {
    "collapsed": false
   },
   "outputs": [
    {
     "data": {
      "text/plain": [
       "{'boxes': [<matplotlib.lines.Line2D at 0xbe61dd8>],\n",
       " 'caps': [<matplotlib.lines.Line2D at 0x11ba7b70>,\n",
       "  <matplotlib.lines.Line2D at 0x11bb3128>],\n",
       " 'fliers': [<matplotlib.lines.Line2D at 0x11bb3c18>],\n",
       " 'means': [],\n",
       " 'medians': [<matplotlib.lines.Line2D at 0x11bb36a0>],\n",
       " 'whiskers': [<matplotlib.lines.Line2D at 0x1441f3c8>,\n",
       "  <matplotlib.lines.Line2D at 0x11ba75f8>]}"
      ]
     },
     "execution_count": 34,
     "metadata": {},
     "output_type": "execute_result"
    },
    {
     "data": {
      "image/png": "[encoded data removed]",
      "text/plain": [
       "<matplotlib.figure.Figure at 0x14416a90>"
      ]
     },
     "metadata": {},
     "output_type": "display_data"
    }
   ],
   "source": [
    "#in order to visualize the data now we need to convert the data to a data frame.\n",
    "dec_clean_tripduration=dec_clean['tripduration'].to_frame()\n",
    "dec_clean_tripduration.boxplot()\n"
   ]
  },
  {
   "cell_type": "code",
   "execution_count": 35,
   "metadata": {
    "collapsed": false
   },
   "outputs": [
    {
     "data": {
      "text/plain": [
       "{'boxes': [<matplotlib.lines.Line2D at 0x15867518>],\n",
       " 'caps': [<matplotlib.lines.Line2D at 0x159162b0>,\n",
       "  <matplotlib.lines.Line2D at 0x15916828>],\n",
       " 'fliers': [<matplotlib.lines.Line2D at 0x15923358>],\n",
       " 'means': [],\n",
       " 'medians': [<matplotlib.lines.Line2D at 0x15916da0>],\n",
       " 'whiskers': [<matplotlib.lines.Line2D at 0xbba5e48>,\n",
       "  <matplotlib.lines.Line2D at 0x15867cf8>]}"
      ]
     },
     "execution_count": 35,
     "metadata": {},
     "output_type": "execute_result"
    },
    {
     "data": {
      "image/png": "[encoded data removed]",
      "text/plain": [
       "<matplotlib.figure.Figure at 0xbe29048>"
      ]
     },
     "metadata": {},
     "output_type": "display_data"
    }
   ],
   "source": [
    "#in order to visualize the data now we need to convert the data to a data frame.\n",
    "june_clean_tripduration=june_clean['tripduration'].to_frame()\n",
    "june_clean_tripduration.boxplot()"
   ]
  },
  {
   "cell_type": "code",
   "execution_count": 36,
   "metadata": {
    "collapsed": false
   },
   "outputs": [
    {
     "name": "stdout",
     "output_type": "stream",
     "text": [
      "tripduration    1517.284767\n",
      "dtype: float64\n",
      "tripduration    1521.526425\n",
      "dtype: float64\n"
     ]
    }
   ],
   "source": [
    "#now our data is clean, lets take a look at the means of our data sets:\n",
    "print dec_clean_tripduration.mean()\n",
    "print june_clean_tripduration.mean() "
   ]
  },
  {
   "cell_type": "code",
   "execution_count": 37,
   "metadata": {
    "collapsed": false
   },
   "outputs": [
    {
     "name": "stdout",
     "output_type": "stream",
     "text": [
      "tripduration    0.716812\n",
      "dtype: float64\n"
     ]
    }
   ],
   "source": [
    "#we need to calculate the mean, standard deviation, and count of the data in order to run a t test. \n",
    "sd_dec = dec_clean_tripduration.std()\n",
    "mean_dec = dec_clean_tripduration.mean()\n",
    "sd_june = june_clean_tripduration.std()\n",
    "mean_june = june_clean_tripduration.mean()\n",
    "count_dec=june_clean_tripduration.count()\n",
    "count_june=june_clean_tripduration.count()\n",
    "\n",
    "#Compute the t-stat:\n",
    "t= (mean_june - mean_dec)/ math.sqrt ((sd_june **2 /count_june)+ (sd_dec **2/count_dec))\n",
    "print t"
   ]
  },
  {
   "cell_type": "markdown",
   "metadata": {},
   "source": [
    "Since we are dealling with data sets that have degrees of freedom larger than 120 we will use $\\infty$ to look up the critical value on the table, and it corresponds to $1.96$ (value for two tailed test)."
   ]
  },
  {
   "cell_type": "markdown",
   "metadata": {},
   "source": [
    "##Since, our calculated t value $0.7168$ is smaller than the critical value $1.96$ we fail to reject the null hypothesis, that the trip duration means for december and june are equal with a confidence level of 95%"
   ]
  },
  {
   "cell_type": "markdown",
   "metadata": {},
   "source": [
    "Even though it is cold outside it seems like people still ride their bikes for just as long as in the winter as in the summer. "
   ]
  },
  {
   "cell_type": "code",
   "execution_count": null,
   "metadata": {
    "collapsed": true
   },
   "outputs": [],
   "source": []
  }
 ],
 "metadata": {
  "kernelspec": {
   "display_name": "Python 2",
   "language": "python",
   "name": "python2"
  },
  "language_info": {
   "codemirror_mode": {
    "name": "ipython",
    "version": 2
   },
   "file_extension": ".py",
   "mimetype": "text/x-python",
   "name": "python",
   "nbconvert_exporter": "python",
   "pygments_lexer": "ipython2",
   "version": "2.7.10"
  }
 },
 "nbformat": 4,
 "nbformat_minor": 0
}
