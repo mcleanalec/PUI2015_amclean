{
 "cells": [
  {
   "cell_type": "code",
   "execution_count": 1,
   "metadata": {
    "collapsed": false
   },
   "outputs": [],
   "source": [
    "import numpy as np\n",
    "import pylab as pl\n",
    "import pandas as pd\n",
    "pl.style.use('bmh')"
   ]
  },
  {
   "cell_type": "code",
   "execution_count": 2,
   "metadata": {
    "collapsed": false
   },
   "outputs": [
    {
     "name": "stdout",
     "output_type": "stream",
     "text": [
      "Populating the interactive namespace from numpy and matplotlib\n"
     ]
    }
   ],
   "source": [
    "%pylab inline"
   ]
  },
  {
   "cell_type": "code",
   "execution_count": 3,
   "metadata": {
    "collapsed": false
   },
   "outputs": [],
   "source": [
    "mta = np.load('MTA_Fare.npy')"
   ]
  },
  {
   "cell_type": "code",
   "execution_count": 4,
   "metadata": {
    "collapsed": false,
    "scrolled": true
   },
   "outputs": [
    {
     "name": "stdout",
     "output_type": "stream",
     "text": [
      "(600, 23, 194)\n",
      "[[[56961 64703 68002 ..., 36527 33929 36824]\n",
      "  [ 1732  2083  2107 ...,  1264  1172  1238]\n",
      "  [  203   276   245 ...,   186   167   167]\n",
      "  ..., \n",
      "  [    0     0     0 ...,     0     0     0]\n",
      "  [    0     0     0 ...,     0     0     0]\n",
      "  [   -1    -1    -1 ...,  1121  1377   712]]\n",
      "\n",
      " [[16210 20179 21769 ...,    -1    -1    -1]\n",
      "  [  503   647   665 ...,    -1    -1    -1]\n",
      "  [   41    43    44 ...,    -1    -1    -1]\n",
      "  ..., \n",
      "  [    0     0     0 ...,    -1    -1    -1]\n",
      "  [    0     0     0 ...,    -1    -1    -1]\n",
      "  [   -1    -1    -1 ...,    -1    -1    -1]]\n",
      "\n",
      " [[ 3292  3429  3629 ...,  3746  3406  3217]\n",
      "  [  110    92   102 ...,   212   209   211]\n",
      "  [    7     6    13 ...,    26    20    22]\n",
      "  ..., \n",
      "  [    0     0     0 ...,     0     0     0]\n",
      "  [    0     0     0 ...,     0     0     0]\n",
      "  [   -1    -1    -1 ...,   573   761   288]]\n",
      "\n",
      " ..., \n",
      " [[   -1    -1    -1 ...,    -1    -1    -1]\n",
      "  [   -1    -1    -1 ...,    -1    -1    -1]\n",
      "  [   -1    -1    -1 ...,    -1    -1    -1]\n",
      "  ..., \n",
      "  [   -1    -1    -1 ...,    -1    -1    -1]\n",
      "  [   -1    -1    -1 ...,    -1    -1    -1]\n",
      "  [   -1    -1    -1 ...,    -1    -1    -1]]\n",
      "\n",
      " [[   -1    -1    -1 ...,    -1    -1    -1]\n",
      "  [   -1    -1    -1 ...,    -1    -1    -1]\n",
      "  [   -1    -1    -1 ...,    -1    -1    -1]\n",
      "  ..., \n",
      "  [   -1    -1    -1 ...,    -1    -1    -1]\n",
      "  [   -1    -1    -1 ...,    -1    -1    -1]\n",
      "  [   -1    -1    -1 ...,    -1    -1    -1]]\n",
      "\n",
      " [[   -1    -1    -1 ...,    -1    -1    -1]\n",
      "  [   -1    -1    -1 ...,    -1    -1    -1]\n",
      "  [   -1    -1    -1 ...,    -1    -1    -1]\n",
      "  ..., \n",
      "  [   -1    -1    -1 ...,    -1    -1    -1]\n",
      "  [   -1    -1    -1 ...,    -1    -1    -1]\n",
      "  [   -1    -1    -1 ...,    -1    -1    -1]]]\n"
     ]
    }
   ],
   "source": [
    "#examining data \n",
    "print mta.shape\n",
    "print mta"
   ]
  },
  {
   "cell_type": "markdown",
   "metadata": {},
   "source": [
    "(600,23,194)\n",
    "\n",
    "There are 600 Manhattan Stations, with 23 types of cards, over 194 weeks-05/21/2010 to 02/21/2014."
   ]
  },
  {
   "cell_type": "code",
   "execution_count": 5,
   "metadata": {
    "collapsed": true
   },
   "outputs": [],
   "source": [
    "#Changing negative values to Nan\n",
    "mta = np.where(mta<0, 'Nan', mta)"
   ]
  },
  {
   "cell_type": "code",
   "execution_count": 6,
   "metadata": {
    "collapsed": true
   },
   "outputs": [],
   "source": [
    "#After converting all negative numbers to Nan(strings), you need to tell python to make everything a number.\n",
    "mta = mta.astype(float)"
   ]
  },
  {
   "cell_type": "code",
   "execution_count": 7,
   "metadata": {
    "collapsed": false,
    "scrolled": true
   },
   "outputs": [
    {
     "data": {
      "text/plain": [
       "array([[[  5.69610000e+04,   6.47030000e+04,   6.80020000e+04, ...,\n",
       "           3.65270000e+04,   3.39290000e+04,   3.68240000e+04],\n",
       "        [  1.73200000e+03,   2.08300000e+03,   2.10700000e+03, ...,\n",
       "           1.26400000e+03,   1.17200000e+03,   1.23800000e+03],\n",
       "        [  2.03000000e+02,   2.76000000e+02,   2.45000000e+02, ...,\n",
       "           1.86000000e+02,   1.67000000e+02,   1.67000000e+02],\n",
       "        ..., \n",
       "        [  0.00000000e+00,   0.00000000e+00,   0.00000000e+00, ...,\n",
       "           0.00000000e+00,   0.00000000e+00,   0.00000000e+00],\n",
       "        [  0.00000000e+00,   0.00000000e+00,   0.00000000e+00, ...,\n",
       "           0.00000000e+00,   0.00000000e+00,   0.00000000e+00],\n",
       "        [             nan,              nan,              nan, ...,\n",
       "           1.12100000e+03,   1.37700000e+03,   7.12000000e+02]],\n",
       "\n",
       "       [[  1.62100000e+04,   2.01790000e+04,   2.17690000e+04, ...,\n",
       "                      nan,              nan,              nan],\n",
       "        [  5.03000000e+02,   6.47000000e+02,   6.65000000e+02, ...,\n",
       "                      nan,              nan,              nan],\n",
       "        [  4.10000000e+01,   4.30000000e+01,   4.40000000e+01, ...,\n",
       "                      nan,              nan,              nan],\n",
       "        ..., \n",
       "        [  0.00000000e+00,   0.00000000e+00,   0.00000000e+00, ...,\n",
       "                      nan,              nan,              nan],\n",
       "        [  0.00000000e+00,   0.00000000e+00,   0.00000000e+00, ...,\n",
       "                      nan,              nan,              nan],\n",
       "        [             nan,              nan,              nan, ...,\n",
       "                      nan,              nan,              nan]],\n",
       "\n",
       "       [[  3.29200000e+03,   3.42900000e+03,   3.62900000e+03, ...,\n",
       "           3.74600000e+03,   3.40600000e+03,   3.21700000e+03],\n",
       "        [  1.10000000e+02,   9.20000000e+01,   1.02000000e+02, ...,\n",
       "           2.12000000e+02,   2.09000000e+02,   2.11000000e+02],\n",
       "        [  7.00000000e+00,   6.00000000e+00,   1.30000000e+01, ...,\n",
       "           2.60000000e+01,   2.00000000e+01,   2.20000000e+01],\n",
       "        ..., \n",
       "        [  0.00000000e+00,   0.00000000e+00,   0.00000000e+00, ...,\n",
       "           0.00000000e+00,   0.00000000e+00,   0.00000000e+00],\n",
       "        [  0.00000000e+00,   0.00000000e+00,   0.00000000e+00, ...,\n",
       "           0.00000000e+00,   0.00000000e+00,   0.00000000e+00],\n",
       "        [             nan,              nan,              nan, ...,\n",
       "           5.73000000e+02,   7.61000000e+02,   2.88000000e+02]],\n",
       "\n",
       "       [[  7.77400000e+03,   8.15800000e+03,   8.40500000e+03, ...,\n",
       "           9.24700000e+03,   8.79200000e+03,   8.51900000e+03],\n",
       "        [  2.57000000e+02,   2.61000000e+02,   2.49000000e+02, ...,\n",
       "           3.96000000e+02,   3.52000000e+02,   3.74000000e+02],\n",
       "        [  2.00000000e+01,   2.80000000e+01,   1.90000000e+01, ...,\n",
       "           4.10000000e+01,   3.50000000e+01,   3.70000000e+01],\n",
       "        ..., \n",
       "        [  0.00000000e+00,   0.00000000e+00,   0.00000000e+00, ...,\n",
       "           0.00000000e+00,   0.00000000e+00,   0.00000000e+00],\n",
       "        [  0.00000000e+00,   0.00000000e+00,   0.00000000e+00, ...,\n",
       "           0.00000000e+00,   0.00000000e+00,   0.00000000e+00],\n",
       "        [             nan,              nan,              nan, ...,\n",
       "           3.05600000e+03,   3.84900000e+03,   8.73000000e+02]]])"
      ]
     },
     "execution_count": 7,
     "metadata": {},
     "output_type": "execute_result"
    }
   ],
   "source": [
    "#checking to see if it worked\n",
    "mta[:4]"
   ]
  },
  {
   "cell_type": "code",
   "execution_count": 8,
   "metadata": {
    "collapsed": false,
    "scrolled": true
   },
   "outputs": [
    {
     "data": {
      "text/plain": [
       "array([ 2628.91253444,  2885.62127785,  2906.06607108,  2885.09640683,\n",
       "        2859.10736677,  2573.3031612 ,  2809.91516458,  2865.56926407,\n",
       "        2827.78460632,  2807.73080699,  2791.56172353,  2736.18877351,\n",
       "        2665.85542522,  2773.44953858,  2614.33914577,  2947.06027881,\n",
       "        2963.26232083,  2852.15982721,  2951.95503632,  2857.80084248,\n",
       "        2977.32849008,  2957.51293103,  2937.62470611,  2937.77575758,\n",
       "        2951.50803292,  2459.86226784,  2853.29608993,  2989.32453568,\n",
       "        2942.97077224,  2694.15610948,  2131.27790811,  2130.63225806,\n",
       "        2686.52228739,  2650.2971652 ,  2542.90469208,  2583.94819159,\n",
       "        2801.57116325,  2844.95826002,  2891.1659824 ,  2612.08093842,\n",
       "        2852.41485826,  2886.3793442 ,  2933.49558217,  2907.27076803,\n",
       "        2892.37460815,  2962.47202042,  2964.52729236,  2797.96691537,\n",
       "        2850.52670332,  2984.32250147,  2950.83343172,  2947.01593861,\n",
       "        2671.05637544,  2930.50373061,  2967.92453758,  2943.18338897,\n",
       "        2980.92158599,  2631.27656434,  2948.41469894,  2900.00186934,\n",
       "        2878.11176702,  2895.49803227,  2859.43467139,  2746.92106813,\n",
       "        2753.36935516,  2256.52935402,  2768.88459268,  3017.64491182,\n",
       "        3059.12469415,  2291.59907573,  3026.46649727,  2887.37815757,\n",
       "        3065.18912574,  3089.90393464,  3000.6418443 ,  3010.7797039 ,\n",
       "        3049.81406705,  2538.3768429 ,  2987.03540239,  3110.45891633,\n",
       "        3115.20771903,  2998.80195324,  2306.85538548,  2634.01662128,\n",
       "        2817.58174476,  2633.15513194,  2765.60436665,  2936.25070582,\n",
       "        2980.76886881,  2929.2911726 ,  2657.0384905 ,  2933.09928477,\n",
       "        2989.34209785,  3004.24458874,  3054.38622247,  2274.06319842,\n",
       "        2956.7503991 ,  2811.31524087,  3040.1069584 ,  3020.03671706,\n",
       "        3045.85391679,  3063.44971359,  2691.34669922,  3023.90938906,\n",
       "        2728.27895427,  3038.96317466,  2918.50684033,  2886.4047039 ,\n",
       "        2941.37902924,  2580.69696402,  2864.75500047,  2870.22020847,\n",
       "        2893.74927223,  2840.42191755,  2811.68522866,  2787.11691239,\n",
       "        2757.17908903,  2812.82053454,  2710.68680595,  2975.3547751 ,\n",
       "        2897.23818935,  2927.21720268,  3006.48759785,  2905.75889328,\n",
       "        3029.85060832,  3030.12977459,   493.25954631,  2551.76848075,\n",
       "        2971.49778172,  2549.68966533,  2933.15871018,  3037.04540634,\n",
       "        3036.91102347,  3003.74153521,  2186.62045696,  2473.68521739,\n",
       "        2777.96510171,  2765.16439015,  2580.75769527,  2854.86917874,\n",
       "        2806.65680131,  2831.04271043,  2715.41789039,  2878.64345911,\n",
       "        2909.97328098,  3008.54333365,  2950.56521739,  2766.07204969,\n",
       "        2959.97835749,  3001.58224317,  2563.92689496,  3114.27183448,\n",
       "        3151.75168871,  3128.7313733 ,  3161.67712832,  2773.61703523,\n",
       "        3048.47115475,  3068.70061844,  3053.18796852,  3023.66248126,\n",
       "        2586.86731634,  2893.50365442,  2923.15339205,  2930.17456897,\n",
       "        2910.42625562,  2867.90911641,  2849.65918654,  2773.09583918,\n",
       "        2799.6115007 ,  2602.22477793,  3106.9761057 ,  3142.66932159,\n",
       "        3169.70773988,  3137.30453523,  3144.59968072,  3075.60550286,\n",
       "        3206.42546584,  3185.19311124,  3181.005997  ,  3094.12406297,\n",
       "        3144.47018499,  2576.03905515,  3115.19109776,  3191.35785232,\n",
       "        3188.59021032,  2334.55147751,  2333.69245939,  2854.19113495,\n",
       "        2945.44924406,  2689.21663843,  2984.73188406,  2994.40617354,\n",
       "        2906.79171753,  2779.53331451])"
      ]
     },
     "execution_count": 8,
     "metadata": {},
     "output_type": "execute_result"
    }
   ],
   "source": [
    "#We only want Stations and weeks\n",
    "mta_stations = np.nanmean(mta, axis=(0,1))\n",
    "mta_stations"
   ]
  },
  {
   "cell_type": "code",
   "execution_count": 16,
   "metadata": {
    "collapsed": false
   },
   "outputs": [],
   "source": [
    "#creating the date range that is mentioned \n",
    "time = pd.date_range('05/21/2010', periods=194, freq='w')"
   ]
  },
  {
   "cell_type": "code",
   "execution_count": 17,
   "metadata": {
    "collapsed": false
   },
   "outputs": [
    {
     "data": {
      "text/plain": [
       "<matplotlib.text.Text at 0x10c0e3290>"
      ]
     },
     "execution_count": 17,
     "metadata": {},
     "output_type": "execute_result"
    },
    {
     "data": {
      "image/png": "[encoded data removed]",
      "text/plain": [
       "<matplotlib.figure.Figure at 0x1045cb410>"
      ]
     },
     "metadata": {},
     "output_type": "display_data"
    }
   ],
   "source": [
    "#plotting the rides against time\n",
    "\n",
    "figure, ax = pl.subplots(figsize=(12,10))\n",
    "ax.plot(time, np.transpose(mta_stations), color='m')\n",
    "ax.set_ylim(0,5000)\n",
    "ax.set_title('Time series over 194 weeks of average NYC subway ridership per week')\n",
    "pl.xlabel('Time', fontsize=20)\n",
    "pl.ylabel('Average ridership', fontsize=20)"
   ]
  },
  {
   "cell_type": "code",
   "execution_count": 11,
   "metadata": {
    "collapsed": false,
    "scrolled": true
   },
   "outputs": [
    {
     "name": "stdout",
     "output_type": "stream",
     "text": [
      "2040.9079119\n"
     ]
    }
   ],
   "source": [
    "#we only need to find the place where the lowest event happened. \n",
    "#we dont need places with high ridership\n",
    "thresholds = np.nanmean(mta_stations) - 3*np.nanstd(mta_stations)\n",
    "print thresholds"
   ]
  },
  {
   "cell_type": "code",
   "execution_count": 12,
   "metadata": {
    "collapsed": false
   },
   "outputs": [],
   "source": [
    "#find event\n",
    "events = np.where(mta_stations<thresholds)"
   ]
  },
  {
   "cell_type": "code",
   "execution_count": 13,
   "metadata": {
    "collapsed": false
   },
   "outputs": [
    {
     "name": "stdout",
     "output_type": "stream",
     "text": [
      "(array([126]),)\n"
     ]
    }
   ],
   "source": [
    "print events"
   ]
  },
  {
   "cell_type": "markdown",
   "metadata": {},
   "source": [
    "The Big event, which was hurricane Sandy, caused the average numbers of riders to decrease below 3 standard deviations of the mean.It happened on week 126."
   ]
  },
  {
   "cell_type": "code",
   "execution_count": null,
   "metadata": {
    "collapsed": true
   },
   "outputs": [],
   "source": []
  }
 ],
 "metadata": {
  "kernelspec": {
   "display_name": "Python 2",
   "language": "python",
   "name": "python2"
  },
  "language_info": {
   "codemirror_mode": {
    "name": "ipython",
    "version": 2
   },
   "file_extension": ".py",
   "mimetype": "text/x-python",
   "name": "python",
   "nbconvert_exporter": "python",
   "pygments_lexer": "ipython2",
   "version": "2.7.10"
  }
 },
 "nbformat": 4,
 "nbformat_minor": 0
}
