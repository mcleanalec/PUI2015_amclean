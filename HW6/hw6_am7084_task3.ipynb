{
 "cells": [
  {
   "cell_type": "code",
   "execution_count": 2,
   "metadata": {
    "collapsed": true
   },
   "outputs": [],
   "source": [
    "import numpy as np\n",
    "import pylab as pl\n",
    "import pandas as pd\n",
    "pl.style.use('fivethirtyeight')"
   ]
  },
  {
   "cell_type": "code",
   "execution_count": 3,
   "metadata": {
    "collapsed": false
   },
   "outputs": [
    {
     "name": "stdout",
     "output_type": "stream",
     "text": [
      "Populating the interactive namespace from numpy and matplotlib\n"
     ]
    }
   ],
   "source": [
    "%pylab inline"
   ]
  },
  {
   "cell_type": "code",
   "execution_count": 4,
   "metadata": {
    "collapsed": true
   },
   "outputs": [],
   "source": [
    "#loading the data\n",
    "mta = np.load('MTA_Fare.npy')\n",
    "type = np.array(['10t', '14d', '1d', '2t', '30d', '7d', 'ada', 'afas', 'exp','ez',\n",
    "            'ff','mc','mr','month','rfm','rr','sen','spec','tcmc','t',\n",
    "            'umlim','xbus','stud'])\n",
    "mta = np.where(mta<0, 'Nan', mta)\n",
    "mta = mta.astype(float)\n",
    "time = pd.date_range('05/21/2010', periods=194, freq='w')"
   ]
  },
  {
   "cell_type": "code",
   "execution_count": 5,
   "metadata": {
    "collapsed": false
   },
   "outputs": [
    {
     "name": "stderr",
     "output_type": "stream",
     "text": [
      "//anaconda/lib/python2.7/site-packages/numpy/lib/nanfunctions.py:598: RuntimeWarning: Mean of empty slice\n",
      "  warnings.warn(\"Mean of empty slice\", RuntimeWarning)\n"
     ]
    }
   ],
   "source": [
    "#getting the mean of all the stations\n",
    "x = np.nanmean(mta, axis=1)"
   ]
  },
  {
   "cell_type": "code",
   "execution_count": 6,
   "metadata": {
    "collapsed": false
   },
   "outputs": [
    {
     "data": {
      "text/plain": [
       "array([[ 5767.18181818,  6794.40909091,  6926.5       , ...,\n",
       "         3430.47826087,  3243.08695652,  3340.56521739],\n",
       "       [ 1695.72727273,  2112.        ,  2243.59090909, ...,\n",
       "                   nan,            nan,            nan],\n",
       "       [  300.27272727,   312.77272727,   328.59090909, ...,\n",
       "          355.26086957,   343.7826087 ,   295.2173913 ],\n",
       "       ..., \n",
       "       [           nan,            nan,            nan, ...,\n",
       "                   nan,            nan,            nan],\n",
       "       [           nan,            nan,            nan, ...,\n",
       "                   nan,            nan,            nan],\n",
       "       [           nan,            nan,            nan, ...,\n",
       "                   nan,            nan,            nan]])"
      ]
     },
     "execution_count": 6,
     "metadata": {},
     "output_type": "execute_result"
    }
   ],
   "source": [
    "x"
   ]
  },
  {
   "cell_type": "code",
   "execution_count": 7,
   "metadata": {
    "collapsed": false
   },
   "outputs": [
    {
     "data": {
      "text/html": [
       "<div>\n",
       "<table border=\"1\" class=\"dataframe\">\n",
       "  <thead>\n",
       "    <tr style=\"text-align: right;\">\n",
       "      <th></th>\n",
       "      <th>score</th>\n",
       "    </tr>\n",
       "  </thead>\n",
       "  <tbody>\n",
       "    <tr>\n",
       "      <th>169</th>\n",
       "      <td>4852193.848318</td>\n",
       "    </tr>\n",
       "    <tr>\n",
       "      <th>21</th>\n",
       "      <td>3121754.221772</td>\n",
       "    </tr>\n",
       "    <tr>\n",
       "      <th>45</th>\n",
       "      <td>3044248.445528</td>\n",
       "    </tr>\n",
       "    <tr>\n",
       "      <th>83</th>\n",
       "      <td>3032394.758747</td>\n",
       "    </tr>\n",
       "  </tbody>\n",
       "</table>\n",
       "</div>"
      ],
      "text/plain": [
       "              score\n",
       "169  4852193.848318\n",
       "21   3121754.221772\n",
       "45   3044248.445528\n",
       "83   3032394.758747"
      ]
     },
     "execution_count": 7,
     "metadata": {},
     "output_type": "execute_result"
    }
   ],
   "source": [
    "#a little formula that will take the max of each station and the subtract it from the sd. \n",
    "score = []\n",
    "for i in range(len(x)):\n",
    "    trans = np.abs(np.fft.rfft(x[i]))\n",
    "    score.append(np.max(trans)-np.std(trans))\n",
    "    \n",
    "#printing the stations with the most highest periodic trends. \n",
    "scframe = pd.DataFrame(score, columns=['score'])\n",
    "scframe.sort(['score'], ascending=False)[:4]"
   ]
  },
  {
   "cell_type": "markdown",
   "metadata": {},
   "source": [
    "The four stations witht he highest periodicity are 169, 21, 45, and 83. "
   ]
  },
  {
   "cell_type": "code",
   "execution_count": null,
   "metadata": {
    "collapsed": true
   },
   "outputs": [],
   "source": []
  }
 ],
 "metadata": {
  "kernelspec": {
   "display_name": "Python 2",
   "language": "python",
   "name": "python2"
  },
  "language_info": {
   "codemirror_mode": {
    "name": "ipython",
    "version": 2
   },
   "file_extension": ".py",
   "mimetype": "text/x-python",
   "name": "python",
   "nbconvert_exporter": "python",
   "pygments_lexer": "ipython2",
   "version": "2.7.10"
  }
 },
 "nbformat": 4,
 "nbformat_minor": 0
}
