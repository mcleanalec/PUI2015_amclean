{
 "cells": [
  {
   "cell_type": "code",
   "execution_count": null,
   "metadata": {
    "collapsed": true
   },
   "outputs": [],
   "source": [
    "import pylab as pl \n",
    "import numpy as np\n",
    "%pylab inline \n",
    "\n",
    "\n",
    "%pylab inline\n",
    "import pylab as pl\n",
    "import numpy as np\n",
    "\n",
    "mymean=100\n",
    "df = 100\n",
    "md={}\n",
    "#md is an empty disctionary\n",
    "md['chisq'] = np.random.chisquare(df, size=100)\n",
    "#md['gaus'] = np.random.normal(0,1, 100)\n",
    "md['pois'] = np.random.poisson(df, 100)\n",
    "#md now is a dictionary with one object: an array by the key 'chisq'\n",
    "\n",
    "print (\"Chisq mean: %.2f, standard deviation: %.2f\"%(md['chisq'].mean(), md['chisq'].std()))\n",
    "print (\"Poisson mean: %.2f, standard deviation: %.2f\"%(md['pois'].mean(), md['pois'].std()))\n"
   ]
  }
 ],
 "metadata": {
  "kernelspec": {
   "display_name": "Python 2",
   "language": "python",
   "name": "python2"
  },
  "language_info": {
   "codemirror_mode": {
    "name": "ipython",
    "version": 2
   },
   "file_extension": ".py",
   "mimetype": "text/x-python",
   "name": "python",
   "nbconvert_exporter": "python",
   "pygments_lexer": "ipython2",
   "version": "2.7.10"
  }
 },
 "nbformat": 4,
 "nbformat_minor": 0
}
